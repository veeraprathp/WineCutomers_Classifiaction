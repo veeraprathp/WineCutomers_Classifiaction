{
  "nbformat": 4,
  "nbformat_minor": 0,
  "metadata": {
    "colab": {
      "provenance": [],
      "authorship_tag": "ABX9TyPmQreJsv8wFyojAXN9I5RX",
      "include_colab_link": true
    },
    "kernelspec": {
      "name": "python3",
      "display_name": "Python 3"
    },
    "language_info": {
      "name": "python"
    }
  },
  "cells": [
    {
      "cell_type": "markdown",
      "metadata": {
        "id": "view-in-github",
        "colab_type": "text"
      },
      "source": [
        "<a href=\"https://colab.research.google.com/github/veeraprathp/WineCutomers_Classifiaction/blob/main/Customer_classification.ipynb\" target=\"_parent\"><img src=\"https://colab.research.google.com/assets/colab-badge.svg\" alt=\"Open In Colab\"/></a>"
      ]
    },
    {
      "cell_type": "markdown",
      "source": [
        "# Principal component analysis"
      ],
      "metadata": {
        "id": "so4HPnzBUEqH"
      }
    },
    {
      "cell_type": "markdown",
      "source": [
        "Importing the dataset"
      ],
      "metadata": {
        "id": "5on9IXq3W5xG"
      }
    },
    {
      "cell_type": "code",
      "execution_count": 78,
      "metadata": {
        "id": "eNkQPO7eOoYI"
      },
      "outputs": [],
      "source": [
        "import pandas as pd\n",
        "import numpy as np\n",
        "import matplotlib.pyplot as plt\n"
      ]
    },
    {
      "cell_type": "code",
      "source": [
        "dataset = pd.read_csv('/content/Wine.csv')\n",
        "x= dataset.iloc[:,:].values\n",
        "y= dataset.iloc[:,-1].values"
      ],
      "metadata": {
        "id": "4XxNSt_GW2u5"
      },
      "execution_count": 79,
      "outputs": []
    },
    {
      "cell_type": "markdown",
      "source": [
        "splitting the dataset into  test and train set"
      ],
      "metadata": {
        "id": "9okVfN57aku2"
      }
    },
    {
      "cell_type": "code",
      "source": [
        "from sklearn.model_selection import train_test_split\n",
        "X_train,X_test,Y_train,Y_test = train_test_split(x,y,test_size=0.2,random_state=0)"
      ],
      "metadata": {
        "id": "ExiMegrwavw_"
      },
      "execution_count": 80,
      "outputs": []
    },
    {
      "cell_type": "code",
      "source": [
        "print(X_train)"
      ],
      "metadata": {
        "colab": {
          "base_uri": "https://localhost:8080/"
        },
        "id": "KaprucWacPfT",
        "outputId": "3e410f3e-eaea-4b64-d961-e76b57fed1b5"
      },
      "execution_count": 81,
      "outputs": [
        {
          "output_type": "stream",
          "name": "stdout",
          "text": [
            "[[ 13.69   3.26   2.54 ...   1.82 680.     3.  ]\n",
            " [ 12.69   1.53   2.26 ...   2.06 495.     2.  ]\n",
            " [ 11.62   1.99   2.28 ...   2.96 345.     2.  ]\n",
            " ...\n",
            " [ 12.42   1.61   2.19 ...   2.96 345.     2.  ]\n",
            " [ 13.9    1.68   2.12 ...   3.33 985.     1.  ]\n",
            " [ 14.16   2.51   2.48 ...   1.71 660.     3.  ]]\n"
          ]
        }
      ]
    },
    {
      "cell_type": "markdown",
      "source": [
        "Feature scaling"
      ],
      "metadata": {
        "id": "1l7ODXLjaTaI"
      }
    },
    {
      "cell_type": "code",
      "source": [
        "from sklearn.preprocessing import StandardScaler\n",
        "sc= StandardScaler()\n",
        "X_train = sc.fit_transform(X_train)\n",
        "X_test = sc.fit_transform (X_test)"
      ],
      "metadata": {
        "id": "tBYBbxykXNIS"
      },
      "execution_count": 82,
      "outputs": []
    },
    {
      "cell_type": "code",
      "source": [
        "print(X_train)"
      ],
      "metadata": {
        "colab": {
          "base_uri": "https://localhost:8080/"
        },
        "id": "LNbVvBp0ct40",
        "outputId": "72f35c4a-8d26-4213-e5a8-4ab3415f577c"
      },
      "execution_count": 83,
      "outputs": [
        {
          "output_type": "stream",
          "name": "stdout",
          "text": [
            "[[ 0.87668336  0.79842885  0.64412971 ... -1.06412236 -0.2059076\n",
            "   1.30503589]\n",
            " [-0.36659076 -0.7581304  -0.39779858 ... -0.73083231 -0.81704676\n",
            "   0.02700074]\n",
            " [-1.69689407 -0.34424759 -0.32337513 ...  0.51900537 -1.31256499\n",
            "   0.02700074]\n",
            " ...\n",
            " [-0.70227477 -0.68615078 -0.65828065 ...  0.51900537 -1.31256499\n",
            "   0.02700074]\n",
            " [ 1.13777093 -0.62316862 -0.91876272 ...  1.03282752  0.80164614\n",
            "  -1.2510344 ]\n",
            " [ 1.4610222   0.12361993  0.42085937 ... -1.2168803  -0.2719767\n",
            "   1.30503589]]\n"
          ]
        }
      ]
    },
    {
      "cell_type": "markdown",
      "source": [
        "Applying PCA"
      ],
      "metadata": {
        "id": "WiXFHn_abYKU"
      }
    },
    {
      "cell_type": "code",
      "source": [
        "from sklearn.decomposition import PCA\n",
        "pca = PCA(n_components =2)\n",
        "X_train = pca.fit_transform(X_train)\n",
        "X_test = pca.transform(X_test)"
      ],
      "metadata": {
        "id": "xicfyFACXXZX"
      },
      "execution_count": 84,
      "outputs": []
    },
    {
      "cell_type": "code",
      "source": [],
      "metadata": {
        "id": "B8aLZqxufsQL"
      },
      "execution_count": 84,
      "outputs": []
    },
    {
      "cell_type": "code",
      "source": [
        "print(X_train)"
      ],
      "metadata": {
        "colab": {
          "base_uri": "https://localhost:8080/"
        },
        "id": "uQD7UxMbcyGd",
        "outputId": "02c8f262-6ae3-449d-8bcf-4c841e60da47"
      },
      "execution_count": 85,
      "outputs": [
        {
          "output_type": "stream",
          "name": "stdout",
          "text": [
            "[[-2.50755982 -1.06733167]\n",
            " [-1.65371963  1.5900792 ]\n",
            " [ 0.98941063  2.21326078]\n",
            " [-2.87306514 -1.65574455]\n",
            " [ 2.21722377  0.23990321]\n",
            " [ 2.86504055 -1.38353933]\n",
            " [ 0.79453974  2.25023768]\n",
            " [-0.38698869  2.35651859]\n",
            " [-0.28780729  2.27809899]\n",
            " [ 2.45725227 -1.10488853]\n",
            " [-3.24663051 -0.23749076]\n",
            " [ 1.77765059  1.24057746]\n",
            " [-2.52059628 -0.97283778]\n",
            " [ 2.52925651 -2.39964244]\n",
            " [-2.63932186 -0.20138145]\n",
            " [-3.26182511 -0.26871879]\n",
            " [ 2.8987037  -0.8763784 ]\n",
            " [-1.55373026 -3.5426708 ]\n",
            " [ 2.92480637 -0.00940831]\n",
            " [ 0.16345263  2.28964951]\n",
            " [-2.99918379 -2.58167881]\n",
            " [-2.85787117 -0.44632039]\n",
            " [ 1.62740663  0.83261939]\n",
            " [-3.05845182 -0.42363393]\n",
            " [-3.15481719 -1.86719031]\n",
            " [ 1.75288376  0.04128941]\n",
            " [-2.2377329   0.11029164]\n",
            " [-2.59505922  0.51102076]\n",
            " [ 1.07709649  2.49286983]\n",
            " [-2.11185638  1.32001586]\n",
            " [-2.84043862 -0.54492042]\n",
            " [ 0.15488611  1.29043724]\n",
            " [ 2.85884143 -1.18221786]\n",
            " [-0.70342448  3.16533611]\n",
            " [ 2.29319944 -0.11620032]\n",
            " [-0.48401491  0.57853718]\n",
            " [ 0.99706014 -0.37188445]\n",
            " [ 3.76494373 -1.47097637]\n",
            " [ 1.54035128  1.36711202]\n",
            " [ 2.39954058 -0.25769347]\n",
            " [-3.84298447 -0.67681003]\n",
            " [-2.02366023 -2.41173933]\n",
            " [ 1.32831702  1.31469214]\n",
            " [ 0.04955375  2.07645164]\n",
            " [-0.10493893  2.85131638]\n",
            " [-2.73761099 -2.45389345]\n",
            " [-3.38344022  0.43328078]\n",
            " [ 3.49910486 -0.33499072]\n",
            " [-3.78222085 -1.7292886 ]\n",
            " [-0.33915864  2.61831591]\n",
            " [-0.43540532  1.9832287 ]\n",
            " [-0.98730978  0.68554097]\n",
            " [ 0.97694422  1.30040524]\n",
            " [ 1.79548352  1.55307651]\n",
            " [ 3.02758093 -1.86410037]\n",
            " [ 2.38829567 -1.36243955]\n",
            " [ 0.82829046  2.03511828]\n",
            " [ 3.74890448 -1.41120328]\n",
            " [-3.98753129 -0.03400929]\n",
            " [ 2.12058096  0.46317156]\n",
            " [-3.68953868 -0.77745617]\n",
            " [ 3.38357348 -0.85131049]\n",
            " [ 2.68446853 -1.72984153]\n",
            " [ 1.15565522  0.84250599]\n",
            " [ 3.77622149 -1.79385661]\n",
            " [ 0.86478491  2.38268904]\n",
            " [ 0.44343382  2.16123181]\n",
            " [ 3.97145996 -2.94235922]\n",
            " [-2.72428587 -2.13110736]\n",
            " [-1.38029967  1.40107796]\n",
            " [ 2.81608144 -1.30898093]\n",
            " [-0.63430246  0.28319086]\n",
            " [-0.67811256  2.54386639]\n",
            " [ 0.82619303  1.45649346]\n",
            " [-1.68751119  0.02449905]\n",
            " [ 2.54218554 -0.80928719]\n",
            " [-4.03597863 -0.55892968]\n",
            " [-2.190457   -1.38026522]\n",
            " [ 4.49526656 -2.35519879]\n",
            " [ 3.55284586 -1.52374656]\n",
            " [-1.33029768  1.91737005]\n",
            " [-3.05768763 -2.06359173]\n",
            " [ 3.06848616 -1.37438754]\n",
            " [ 2.20721706 -0.68393118]\n",
            " [-0.3814593   2.20679541]\n",
            " [-0.04958536  1.17482869]\n",
            " [ 2.32603056 -0.25405012]\n",
            " [ 2.58439207 -1.32549749]\n",
            " [ 1.22962293 -0.24151722]\n",
            " [-3.56149014 -2.13258056]\n",
            " [ 0.91012671  0.7136284 ]\n",
            " [ 2.63773186  0.25750524]\n",
            " [ 0.78393978  1.35835868]\n",
            " [-2.59796521 -0.44838934]\n",
            " [ 3.3911399  -1.30314768]\n",
            " [-1.50550174  1.752864  ]\n",
            " [-3.14138001 -0.0700564 ]\n",
            " [-2.99864293 -0.24734731]\n",
            " [ 2.30594649 -1.70464549]\n",
            " [ 2.00372166  0.72407221]\n",
            " [-2.41566132 -0.20936386]\n",
            " [ 2.60382482 -1.96345489]\n",
            " [-2.60428686 -0.20192924]\n",
            " [-0.32724813  1.92526266]\n",
            " [ 1.87379771 -0.71846659]\n",
            " [ 2.59082705 -0.79771723]\n",
            " [-0.30861083  1.92949572]\n",
            " [ 3.02603708 -1.57197309]\n",
            " [-3.17701172 -1.84836585]\n",
            " [-1.34773655  1.23066592]\n",
            " [-3.56222002 -1.19216939]\n",
            " [ 2.08652091 -0.13787643]\n",
            " [-3.15958421 -0.36167577]\n",
            " [-2.67034829 -2.14049159]\n",
            " [-3.73584263 -1.16661196]\n",
            " [ 2.64127666 -0.30036355]\n",
            " [ 1.41394201  1.98997336]\n",
            " [-0.29458411  2.37383   ]\n",
            " [ 0.45078802  0.9540639 ]\n",
            " [ 0.61836198  3.80473395]\n",
            " [-3.05866757 -1.48009569]\n",
            " [-3.45107449 -2.69717435]\n",
            " [-0.55695981  1.10976237]\n",
            " [-1.23972081  1.52026976]\n",
            " [ 1.46361957 -0.94702541]\n",
            " [ 1.06587651  1.39048257]\n",
            " [-3.16189925 -1.1429534 ]\n",
            " [-2.70101119 -2.44366403]\n",
            " [ 2.82128049 -1.87551585]\n",
            " [ 3.42965782 -1.87027628]\n",
            " [-2.97550885 -0.16716016]\n",
            " [-0.87998569  1.82055831]\n",
            " [-1.36008278  1.02532909]\n",
            " [-0.36456411  2.4109741 ]\n",
            " [ 1.84898082 -0.69018305]\n",
            " [ 1.56139881 -0.28935456]\n",
            " [ 3.08673825 -0.90788015]\n",
            " [-0.47153302  2.68696917]\n",
            " [ 0.30815269  2.43205446]\n",
            " [-0.00780059  1.99477932]\n",
            " [ 3.14397392 -0.78077619]\n",
            " [-2.76738768 -2.10741074]]\n"
          ]
        }
      ]
    },
    {
      "cell_type": "markdown",
      "source": [
        "Traing the Logistic Regression model on the Training set"
      ],
      "metadata": {
        "id": "wA70Zv4jb7MB"
      }
    },
    {
      "cell_type": "code",
      "source": [
        "from sklearn.linear_model import LogisticRegression\n",
        "classifier = LogisticRegression(random_state=0)\n",
        "classifier.fit(X_train,Y_train)"
      ],
      "metadata": {
        "colab": {
          "base_uri": "https://localhost:8080/",
          "height": 74
        },
        "id": "e0M5Tr2Xbx3v",
        "outputId": "4db203f9-8ff9-4aa6-8fc6-a509a3b8bdc6"
      },
      "execution_count": 86,
      "outputs": [
        {
          "output_type": "execute_result",
          "data": {
            "text/plain": [
              "LogisticRegression(random_state=0)"
            ],
            "text/html": [
              "<style>#sk-container-id-6 {color: black;background-color: white;}#sk-container-id-6 pre{padding: 0;}#sk-container-id-6 div.sk-toggleable {background-color: white;}#sk-container-id-6 label.sk-toggleable__label {cursor: pointer;display: block;width: 100%;margin-bottom: 0;padding: 0.3em;box-sizing: border-box;text-align: center;}#sk-container-id-6 label.sk-toggleable__label-arrow:before {content: \"▸\";float: left;margin-right: 0.25em;color: #696969;}#sk-container-id-6 label.sk-toggleable__label-arrow:hover:before {color: black;}#sk-container-id-6 div.sk-estimator:hover label.sk-toggleable__label-arrow:before {color: black;}#sk-container-id-6 div.sk-toggleable__content {max-height: 0;max-width: 0;overflow: hidden;text-align: left;background-color: #f0f8ff;}#sk-container-id-6 div.sk-toggleable__content pre {margin: 0.2em;color: black;border-radius: 0.25em;background-color: #f0f8ff;}#sk-container-id-6 input.sk-toggleable__control:checked~div.sk-toggleable__content {max-height: 200px;max-width: 100%;overflow: auto;}#sk-container-id-6 input.sk-toggleable__control:checked~label.sk-toggleable__label-arrow:before {content: \"▾\";}#sk-container-id-6 div.sk-estimator input.sk-toggleable__control:checked~label.sk-toggleable__label {background-color: #d4ebff;}#sk-container-id-6 div.sk-label input.sk-toggleable__control:checked~label.sk-toggleable__label {background-color: #d4ebff;}#sk-container-id-6 input.sk-hidden--visually {border: 0;clip: rect(1px 1px 1px 1px);clip: rect(1px, 1px, 1px, 1px);height: 1px;margin: -1px;overflow: hidden;padding: 0;position: absolute;width: 1px;}#sk-container-id-6 div.sk-estimator {font-family: monospace;background-color: #f0f8ff;border: 1px dotted black;border-radius: 0.25em;box-sizing: border-box;margin-bottom: 0.5em;}#sk-container-id-6 div.sk-estimator:hover {background-color: #d4ebff;}#sk-container-id-6 div.sk-parallel-item::after {content: \"\";width: 100%;border-bottom: 1px solid gray;flex-grow: 1;}#sk-container-id-6 div.sk-label:hover label.sk-toggleable__label {background-color: #d4ebff;}#sk-container-id-6 div.sk-serial::before {content: \"\";position: absolute;border-left: 1px solid gray;box-sizing: border-box;top: 0;bottom: 0;left: 50%;z-index: 0;}#sk-container-id-6 div.sk-serial {display: flex;flex-direction: column;align-items: center;background-color: white;padding-right: 0.2em;padding-left: 0.2em;position: relative;}#sk-container-id-6 div.sk-item {position: relative;z-index: 1;}#sk-container-id-6 div.sk-parallel {display: flex;align-items: stretch;justify-content: center;background-color: white;position: relative;}#sk-container-id-6 div.sk-item::before, #sk-container-id-6 div.sk-parallel-item::before {content: \"\";position: absolute;border-left: 1px solid gray;box-sizing: border-box;top: 0;bottom: 0;left: 50%;z-index: -1;}#sk-container-id-6 div.sk-parallel-item {display: flex;flex-direction: column;z-index: 1;position: relative;background-color: white;}#sk-container-id-6 div.sk-parallel-item:first-child::after {align-self: flex-end;width: 50%;}#sk-container-id-6 div.sk-parallel-item:last-child::after {align-self: flex-start;width: 50%;}#sk-container-id-6 div.sk-parallel-item:only-child::after {width: 0;}#sk-container-id-6 div.sk-dashed-wrapped {border: 1px dashed gray;margin: 0 0.4em 0.5em 0.4em;box-sizing: border-box;padding-bottom: 0.4em;background-color: white;}#sk-container-id-6 div.sk-label label {font-family: monospace;font-weight: bold;display: inline-block;line-height: 1.2em;}#sk-container-id-6 div.sk-label-container {text-align: center;}#sk-container-id-6 div.sk-container {/* jupyter's `normalize.less` sets `[hidden] { display: none; }` but bootstrap.min.css set `[hidden] { display: none !important; }` so we also need the `!important` here to be able to override the default hidden behavior on the sphinx rendered scikit-learn.org. See: https://github.com/scikit-learn/scikit-learn/issues/21755 */display: inline-block !important;position: relative;}#sk-container-id-6 div.sk-text-repr-fallback {display: none;}</style><div id=\"sk-container-id-6\" class=\"sk-top-container\"><div class=\"sk-text-repr-fallback\"><pre>LogisticRegression(random_state=0)</pre><b>In a Jupyter environment, please rerun this cell to show the HTML representation or trust the notebook. <br />On GitHub, the HTML representation is unable to render, please try loading this page with nbviewer.org.</b></div><div class=\"sk-container\" hidden><div class=\"sk-item\"><div class=\"sk-estimator sk-toggleable\"><input class=\"sk-toggleable__control sk-hidden--visually\" id=\"sk-estimator-id-6\" type=\"checkbox\" checked><label for=\"sk-estimator-id-6\" class=\"sk-toggleable__label sk-toggleable__label-arrow\">LogisticRegression</label><div class=\"sk-toggleable__content\"><pre>LogisticRegression(random_state=0)</pre></div></div></div></div></div>"
            ]
          },
          "metadata": {},
          "execution_count": 86
        }
      ]
    },
    {
      "cell_type": "markdown",
      "source": [
        "**Confusion matrix**"
      ],
      "metadata": {
        "id": "bn6lWChXdoRg"
      }
    },
    {
      "cell_type": "code",
      "source": [
        "from sklearn.metrics import confusion_matrix,accuracy_score\n",
        "Y_pred = classifier.predict(X_test)\n",
        "cm = confusion_matrix(Y_test,Y_pred)\n",
        "print(cm)\n",
        "accuracy_score(Y_test,Y_pred)"
      ],
      "metadata": {
        "colab": {
          "base_uri": "https://localhost:8080/"
        },
        "id": "i_ZjV81idFCb",
        "outputId": "e602d4de-cd72-4ba2-f1f4-67ebb18260e8"
      },
      "execution_count": 87,
      "outputs": [
        {
          "output_type": "stream",
          "name": "stdout",
          "text": [
            "[[14  0  0]\n",
            " [ 1 15  0]\n",
            " [ 0  0  6]]\n"
          ]
        },
        {
          "output_type": "execute_result",
          "data": {
            "text/plain": [
              "0.9722222222222222"
            ]
          },
          "metadata": {},
          "execution_count": 87
        }
      ]
    },
    {
      "cell_type": "markdown",
      "source": [
        "Visulaising the results"
      ],
      "metadata": {
        "id": "SCDX428SetAM"
      }
    },
    {
      "cell_type": "code",
      "source": [
        "from matplotlib.colors import ListedColormap\n",
        "X_set, y_set = X_train, Y_train\n",
        "X1, X2 = np.meshgrid(np.arange(start = X_set[:, 0].min() - 1, stop = X_set[:, 0].max() + 1, step = 0.01),\n",
        "                     np.arange(start = X_set[:, 1].min() - 1, stop = X_set[:, 1].max() + 1, step = 0.01))\n",
        "plt.contourf(X1, X2, classifier.predict(np.array([X1.ravel(), X2.ravel()]).T).reshape(X1.shape),\n",
        "             alpha = 0.75, cmap = ListedColormap(('red', 'green', 'blue')))\n",
        "plt.xlim(X1.min(), X1.max())\n",
        "plt.ylim(X2.min(), X2.max())\n",
        "for i, j in enumerate(np.unique(y_set)):\n",
        "    plt.scatter(X_set[y_set == j, 0], X_set[y_set == j, 1],\n",
        "                c = ListedColormap(('red', 'green', 'blue'))(i), label = j)\n",
        "plt.title('Logistic Regression (Training set)')\n",
        "plt.xlabel('PC1')\n",
        "plt.ylabel('PC2')\n",
        "plt.legend()\n",
        "plt.show()"
      ],
      "metadata": {
        "colab": {
          "base_uri": "https://localhost:8080/",
          "height": 527
        },
        "id": "Ga4hCAypd4Ih",
        "outputId": "d345b5a3-52f3-4450-d8cf-092d01bacf73"
      },
      "execution_count": 89,
      "outputs": [
        {
          "output_type": "stream",
          "name": "stderr",
          "text": [
            "<ipython-input-89-f2bb73564e74>:10: UserWarning: *c* argument looks like a single numeric RGB or RGBA sequence, which should be avoided as value-mapping will have precedence in case its length matches with *x* & *y*.  Please use the *color* keyword-argument or provide a 2D array with a single row if you intend to specify the same RGB or RGBA value for all points.\n",
            "  plt.scatter(X_set[y_set == j, 0], X_set[y_set == j, 1],\n"
          ]
        },
        {
          "output_type": "display_data",
          "data": {
            "text/plain": [
              "<Figure size 640x480 with 1 Axes>"
            ],
            "image/png": "[encoded data removed]"
          },
          "metadata": {}
        }
      ]
    },
    {
      "cell_type": "markdown",
      "source": [
        "Visulaising the test set results"
      ],
      "metadata": {
        "id": "CWTSg5argJj0"
      }
    },
    {
      "cell_type": "code",
      "source": [
        "from matplotlib.colors import ListedColormap\n",
        "X_set, y_set = X_test, Y_test\n",
        "X1, X2 = np.meshgrid(np.arange(start = X_set[:, 0].min() - 1, stop = X_set[:, 0].max() + 1, step = 0.01),\n",
        "                     np.arange(start = X_set[:, 1].min() - 1, stop = X_set[:, 1].max() + 1, step = 0.01))\n",
        "plt.contourf(X1, X2, classifier.predict(np.array([X1.ravel(), X2.ravel()]).T).reshape(X1.shape),\n",
        "             alpha = 0.75, cmap = ListedColormap(('red', 'green', 'blue')))\n",
        "plt.xlim(X1.min(), X1.max())\n",
        "plt.ylim(X2.min(), X2.max())\n",
        "for i, j in enumerate(np.unique(y_set)):\n",
        "    plt.scatter(X_set[y_set == j, 0], X_set[y_set == j, 1],\n",
        "                c = ListedColormap(('red', 'green', 'blue'))(i), label = j)\n",
        "plt.title('Logistic Regression (Training set)')\n",
        "plt.xlabel('PC1')\n",
        "plt.ylabel('PC2')\n",
        "plt.legend()\n",
        "plt.show()"
      ],
      "metadata": {
        "colab": {
          "base_uri": "https://localhost:8080/",
          "height": 527
        },
        "id": "KmzmKKvogI68",
        "outputId": "d452482d-270a-411a-aa7a-e36a9ac8b999"
      },
      "execution_count": 90,
      "outputs": [
        {
          "output_type": "stream",
          "name": "stderr",
          "text": [
            "<ipython-input-90-e8bd190f7101>:10: UserWarning: *c* argument looks like a single numeric RGB or RGBA sequence, which should be avoided as value-mapping will have precedence in case its length matches with *x* & *y*.  Please use the *color* keyword-argument or provide a 2D array with a single row if you intend to specify the same RGB or RGBA value for all points.\n",
            "  plt.scatter(X_set[y_set == j, 0], X_set[y_set == j, 1],\n"
          ]
        },
        {
          "output_type": "display_data",
          "data": {
            "text/plain": [
              "<Figure size 640x480 with 1 Axes>"
            ],
            "image/png": "[encoded data removed]"
          },
          "metadata": {}
        }
      ]
    },
    {
      "cell_type": "code",
      "source": [],
      "metadata": {
        "id": "mXm5pW5RgDBR"
      },
      "execution_count": null,
      "outputs": []
    }
  ]
}